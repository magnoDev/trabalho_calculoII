{
 "cells": [
  {
   "cell_type": "markdown",
   "metadata": {},
   "source": [
    "\n",
    "#### Alunos: David de Moura Marques e Magno Macedo de Oliveira\n",
    "\n",
    "#### Grupo V - Séries “a e II”\n",
    "\n",
    "a) $\\sum_{n=1}^{\\infty} \\frac{n}{n^4+1}$\n",
    "\n",
    "II) $\\sum_{n=1}^{\\infty} \\frac{(-1)^n.n}{10^n}$\n",
    "\n"
   ]
  },
  {
   "cell_type": "markdown",
   "metadata": {},
   "source": [
    "# Verificar se as séries convergem: \n",
    "\n",
    "## (a) $\\sum_{n=1}^{\\infty} \\frac{n}{n^4+1}$\n",
    "\n",
    "Seja f(x) = $\\sum_{n=1}^{\\infty} \\frac{n}{n^4+1}$,\n",
    "h(x) = $\\sum_{n=1}^{\\infty} \\frac{n}{n^4}$\n",
    "e g(x) = $\\sum_{n=1}^{\\infty} \\frac{1}{n^3}$,\n",
    "então f(x) <= h(x) < g(x)\n",
    "                \n",
    "E g(x) converge (P-Série, P=3) logo, pelo Teste da Comparação, F(x) converge.\n",
    "\n",
    "## (II) $\\sum_{n=1}^{\\infty} \\frac{(-1)^n.n}{10^n}$\n",
    "\n",
    "Este é um exemplo de uma série alternada, para verificar sua convergência, faremos dois testes:\n",
    "\n",
    "Se $b_{n+1} <= b_{n}$\n",
    "\n",
    "E se $\\lim_{n\\to\\infty} b_{n} = 0$\n",
    "\n",
    "Dado que $b_{n} = \\frac{n}{10^n}$\n",
    "então $b_{n+1} = \\frac{n+1}{10^{n+1}}$,\n",
    "logo $b_{n+1} <= b_{n}$\n",
    "\n",
    "Calculemos agora $\\lim_{n\\to\\infty} b_{n}$\n",
    "\n",
    "$\\lim_{n\\to\\infty} \\frac{n}{10^n}$ = $\\lim_{n\\to\\infty} \\frac{1}{10^n log(10)} = 0$\n",
    "\n",
    "Por tanto, a série converge\n"
   ]
  },
  {
   "cell_type": "markdown",
   "metadata": {},
   "source": [
    "# Calcular quantas operações são necessárias para determinar a soma de uma série infinita com uma precisão de 0,00000001 ( e < 0,0000001)\n",
    "\n",
    "Métodos a serem utilizados:\n",
    "\n",
    "## O erro 'e' será obtido, fazendo:\n",
    "\n",
    "  e = $S_{n} - S_{n-1}$ , onde:\n",
    "\n",
    "  $S_{n}$ : É a enésima soma;\n",
    "\n",
    "  $S_{n-1}$ : É a soma anterior a enésima soma;\n",
    "\n",
    "## O erro 'e' será obtido utilizando a estimativa do resto para integral ou utilizando o teorema de estimativa de séries alternadas, de acordo com a série.\n",
    "\n",
    "### A estimativa de resto para integral é dada por:\n",
    "    \n",
    "e = $\\int_{n+1}^{\\infty} f(x) dx$ \n",
    "  \n",
    "### O teorema de estimativa de séries alternadas:\n",
    "\n",
    "Se $S = (-1)^{n-1} b_{n}$ for a soma de uma série alternada que satisfaz∶\n",
    "$0 <= b_{n+1} <= b_{n}$ e $\\lim_{n\\to\\infty} b_{n} = 0$ então $R_{n} <= b_{n+1}$\n",
    "  \n"
   ]
  },
  {
   "cell_type": "code",
   "execution_count": 1,
   "metadata": {},
   "outputs": [],
   "source": [
    "import numpy as np\n",
    "import pandas as pd\n",
    "from scipy.integrate import quad\n",
    "import texttable as tt\n",
    "from sympy import Poly, Symbol, init_printing, latex\n",
    "from sympy.solvers.inequalities import reduce_rational_inequalities"
   ]
  },
  {
   "cell_type": "code",
   "execution_count": 2,
   "metadata": {},
   "outputs": [],
   "source": [
    "def serieA(n):\n",
    "    serie = 0\n",
    "    for i in range(1,n):\n",
    "        serie += i/((i**4)+1)\n",
    "    return serie\n",
    "\n",
    "def mod(num):\n",
    "    if num < 0:\n",
    "        return num * -1\n",
    "    return num\n",
    "\n",
    "def calculaErroI(serie):\n",
    "    erro = 1.0\n",
    "    quantidadeIteracoes = 1\n",
    "    sn_menos_um = 0.0\n",
    "    sn = 0.0\n",
    "    \n",
    "    tabela = tt.Texttable()\n",
    "    tabela.header(['Nro Op', 'Sn-1', 'Sn', 'erro'])\n",
    "    tabela.set_cols_dtype(['i','f','f','f']) \n",
    "    tabela.set_precision(9)\n",
    "    while erro >= 0.0000001:\n",
    "        sn_menos_um = serieA(quantidadeIteracoes)\n",
    "        sn = serieA(quantidadeIteracoes+1)\n",
    "        erro = mod(sn - sn_menos_um)\n",
    "        tabela.add_row([quantidadeIteracoes,sn_menos_um,sn,erro])\n",
    "        quantidadeIteracoes+=1\n",
    "    return tabela.draw()\n"
   ]
  },
  {
   "cell_type": "markdown",
   "metadata": {},
   "source": [
    "## Série a: $\\sum_{n=1}^{\\infty} \\frac{n}{n^4+1}$\n",
    "\n",
    "### Utilizando o método 2.1"
   ]
  },
  {
   "cell_type": "code",
   "execution_count": 3,
   "metadata": {},
   "outputs": [],
   "source": [
    "# tabela = calculaErroI(serieA)\n",
    "\n",
    "# imprime as dez primeiras linhas\n",
    "# print(tabela[0:][0:1218])\n",
    "# print('\\t\\t\\t...')\n",
    "# imprime as dez ultimas linhas\n",
    "# print(tabela[0:][len(tabela)-1218:])"
   ]
  },
  {
   "cell_type": "markdown",
   "metadata": {},
   "source": [
    "### Utilizando o método 2.2.1\n",
    "\n",
    "##### Para esta série deve-se utilizar o método 2.1 ao invés do 2.2 pois não se trata de uma série alternada\n",
    "\n",
    "De acordo com 1.1, podemos escrever esta série como $\\int_{n+1}^{\\infty} \\frac{1}{x^3} dx$\n",
    "\n",
    "Resolvendo esta integral teremos:\n",
    "\n",
    " $\\int_{n+1}^{\\infty} \\frac{1}{x^3} dx = \\frac{x^{-3+1}}{-3+1} = - \\frac{x^{-2}}{2} = - \\frac{1}{2x^2}]_{n+1}^{\\infty}$\n",
    " \n",
    " $\\lim_{x\\to\\infty} - \\frac{1}{2x^2} - (- \\frac{1}{2(n+1)^2}) = 0 + \\frac{1}{2(n+1)^2} = \\frac{1}{2(n+1)^2} $\n",
    " \n",
    " onde $n$ será nosso erro.\n",
    " \n",
    " Calculando $n$:\n",
    " \n",
    " $ \\frac{1}{2(n+1)^2} < 0,0000001  $\n",
    " "
   ]
  },
  {
   "cell_type": "code",
   "execution_count": 7,
   "metadata": {},
   "outputs": [],
   "source": [
    "def solveIneq():\n",
    "    n = Symbol('n', real=True)\n",
    "    return reduce_rational_inequalities([[1/(2*(n+1)**2) < 0.0000001]], n)"
   ]
  },
  {
   "cell_type": "code",
   "execution_count": 8,
   "metadata": {
    "scrolled": true
   },
   "outputs": [
    {
     "name": "stdout",
     "output_type": "stream",
     "text": [
      "((-inf < n) & (n < -2237.06797749979)) | ((2235.06797749979 < n) & (n < inf))\n"
     ]
    }
   ],
   "source": [
    "print(solveIneq())"
   ]
  },
  {
   "cell_type": "markdown",
   "metadata": {},
   "source": [
    "Desconsideraremos a parte negativa visto o somatório dar-se para valores positivos.\n",
    "Por tanto o primeiro valor que satisfaz a equação é: **n = 2236**\n"
   ]
  },
  {
   "cell_type": "markdown",
   "metadata": {},
   "source": [
    "## Série II: $\\sum_{n=1}^{\\infty} \\frac{(-1)^n.n}{10^n}$\n",
    "\n",
    "### Utilizando o método 2.1"
   ]
  },
  {
   "cell_type": "markdown",
   "metadata": {},
   "source": [
    "________________________________________________________________"
   ]
  },
  {
   "cell_type": "markdown",
   "metadata": {},
   "source": [
    "# Referências"
   ]
  },
  {
   "cell_type": "markdown",
   "metadata": {},
   "source": [
    "- <https://pt.sharelatex.com/learn/Integrals,_sums_and_limits#Integrals>\n",
    "- <https://github.com/adam-p/markdown-here/wiki/Markdown-Cheatsheet#links>\n",
    "- <https://github.com/foutaise/texttable>\n",
    "- <https://www.symbolab.com/>\n",
    "- <http://www.wolframalpha.com/>\n",
    "- <http://jupyter-notebook.readthedocs.io/en/stable/examples/Notebook/Typesetting%20Equations.html>\n",
    "- STEWART, James. Cálculo, Vol. 2, 7a Ediçao. Thomson Learning.\n"
   ]
  }
 ],
 "metadata": {
  "kernelspec": {
   "display_name": "Python 3",
   "language": "python",
   "name": "python3"
  },
  "language_info": {
   "codemirror_mode": {
    "name": "ipython",
    "version": 3
   },
   "file_extension": ".py",
   "mimetype": "text/x-python",
   "name": "python",
   "nbconvert_exporter": "python",
   "pygments_lexer": "ipython3",
   "version": "3.7.0"
  }
 },
 "nbformat": 4,
 "nbformat_minor": 2
}
